{
 "cells": [
  {
   "cell_type": "code",
   "execution_count": 1,
   "metadata": {},
   "outputs": [
    {
     "name": "stderr",
     "output_type": "stream",
     "text": [
      "Using TensorFlow backend.\n"
     ]
    }
   ],
   "source": [
    "import keras\n",
    "import tensorflow as tf\n",
    "import numpy as np\n",
    "from mobilenet import MobileNet\n",
    "import sys\n",
    "sys.path.append('../CustomLayers/')\n",
    "sys.path.append('../Keras/')\n",
    "from TB_writer import TB_writer\n",
    "from keras.preprocessing.image import ImageDataGenerator\n",
    "from keras.layers import Input"
   ]
  },
  {
   "cell_type": "code",
   "execution_count": 2,
   "metadata": {
    "collapsed": true
   },
   "outputs": [],
   "source": [
    "train_datagen = ImageDataGenerator(\n",
    "        rescale = 1./255,\n",
    "        shear_range = 0.2,\n",
    "        zoom_range = 0.2,\n",
    "        horizontal_flip = True)\n",
    "test_datagen = ImageDataGenerator(rescale=1./255)"
   ]
  },
  {
   "cell_type": "code",
   "execution_count": 3,
   "metadata": {},
   "outputs": [
    {
     "name": "stdout",
     "output_type": "stream",
     "text": [
      "Found 1281167 images belonging to 1000 classes.\n",
      "Found 50000 images belonging to 1000 classes.\n"
     ]
    }
   ],
   "source": [
    "train_generator = train_datagen.flow_from_directory(\n",
    "        '/data/imagenet/train/',\n",
    "        target_size = (224, 224),\n",
    "        batch_size=128,\n",
    "        class_mode='categorical')\n",
    "validation_generator = test_datagen.flow_from_directory(\n",
    "        '/data/imagenet/val/',\n",
    "        target_size = (224, 224),\n",
    "        batch_size=128,\n",
    "        class_mode='categorical')"
   ]
  },
  {
   "cell_type": "code",
   "execution_count": 4,
   "metadata": {
    "collapsed": true
   },
   "outputs": [],
   "source": [
    "img_w = 224\n",
    "img_h = 224\n",
    "img_c = 3\n",
    "\n",
    "inp = Input(shape=(img_w, img_h, img_c))\n",
    "\n",
    "model = MobileNet(input_tensor=inp, shallow=True)"
   ]
  },
  {
   "cell_type": "code",
   "execution_count": 5,
   "metadata": {
    "collapsed": true
   },
   "outputs": [],
   "source": [
    "model.compile(loss='categorical_crossentropy',\n",
    "              optimizer='adam',\n",
    "              metrics=['accuracy'])"
   ]
  },
  {
   "cell_type": "code",
   "execution_count": 6,
   "metadata": {},
   "outputs": [
    {
     "name": "stdout",
     "output_type": "stream",
     "text": [
      "_________________________________________________________________\n",
      "Layer (type)                 Output Shape              Param #   \n",
      "=================================================================\n",
      "input_1 (InputLayer)         (None, 224, 224, 3)       0         \n",
      "_________________________________________________________________\n",
      "conv2d_1 (Conv2D)            (None, 112, 112, 32)      864       \n",
      "_________________________________________________________________\n",
      "batch_normalization_1 (Batch (None, 112, 112, 32)      128       \n",
      "_________________________________________________________________\n",
      "activation_1 (Activation)    (None, 112, 112, 32)      0         \n",
      "_________________________________________________________________\n",
      "depthwise_conv2d_1 (Depthwis (None, 112, 112, 32)      288       \n",
      "_________________________________________________________________\n",
      "batch_normalization_2 (Batch (None, 112, 112, 32)      128       \n",
      "_________________________________________________________________\n",
      "activation_2 (Activation)    (None, 112, 112, 32)      0         \n",
      "_________________________________________________________________\n",
      "conv2d_2 (Conv2D)            (None, 112, 112, 64)      2048      \n",
      "_________________________________________________________________\n",
      "batch_normalization_3 (Batch (None, 112, 112, 64)      256       \n",
      "_________________________________________________________________\n",
      "activation_3 (Activation)    (None, 112, 112, 64)      0         \n",
      "_________________________________________________________________\n",
      "depthwise_conv2d_2 (Depthwis (None, 56, 56, 64)        576       \n",
      "_________________________________________________________________\n",
      "batch_normalization_4 (Batch (None, 56, 56, 64)        256       \n",
      "_________________________________________________________________\n",
      "activation_4 (Activation)    (None, 56, 56, 64)        0         \n",
      "_________________________________________________________________\n",
      "conv2d_3 (Conv2D)            (None, 56, 56, 128)       8192      \n",
      "_________________________________________________________________\n",
      "batch_normalization_5 (Batch (None, 56, 56, 128)       512       \n",
      "_________________________________________________________________\n",
      "activation_5 (Activation)    (None, 56, 56, 128)       0         \n",
      "_________________________________________________________________\n",
      "depthwise_conv2d_3 (Depthwis (None, 56, 56, 128)       1152      \n",
      "_________________________________________________________________\n",
      "batch_normalization_6 (Batch (None, 56, 56, 128)       512       \n",
      "_________________________________________________________________\n",
      "activation_6 (Activation)    (None, 56, 56, 128)       0         \n",
      "_________________________________________________________________\n",
      "conv2d_4 (Conv2D)            (None, 56, 56, 128)       16384     \n",
      "_________________________________________________________________\n",
      "batch_normalization_7 (Batch (None, 56, 56, 128)       512       \n",
      "_________________________________________________________________\n",
      "activation_7 (Activation)    (None, 56, 56, 128)       0         \n",
      "_________________________________________________________________\n",
      "depthwise_conv2d_4 (Depthwis (None, 28, 28, 128)       1152      \n",
      "_________________________________________________________________\n",
      "batch_normalization_8 (Batch (None, 28, 28, 128)       512       \n",
      "_________________________________________________________________\n",
      "activation_8 (Activation)    (None, 28, 28, 128)       0         \n",
      "_________________________________________________________________\n",
      "conv2d_5 (Conv2D)            (None, 28, 28, 256)       32768     \n",
      "_________________________________________________________________\n",
      "batch_normalization_9 (Batch (None, 28, 28, 256)       1024      \n",
      "_________________________________________________________________\n",
      "activation_9 (Activation)    (None, 28, 28, 256)       0         \n",
      "_________________________________________________________________\n",
      "depthwise_conv2d_5 (Depthwis (None, 28, 28, 256)       2304      \n",
      "_________________________________________________________________\n",
      "batch_normalization_10 (Batc (None, 28, 28, 256)       1024      \n",
      "_________________________________________________________________\n",
      "activation_10 (Activation)   (None, 28, 28, 256)       0         \n",
      "_________________________________________________________________\n",
      "conv2d_6 (Conv2D)            (None, 28, 28, 256)       65536     \n",
      "_________________________________________________________________\n",
      "batch_normalization_11 (Batc (None, 28, 28, 256)       1024      \n",
      "_________________________________________________________________\n",
      "activation_11 (Activation)   (None, 28, 28, 256)       0         \n",
      "_________________________________________________________________\n",
      "depthwise_conv2d_6 (Depthwis (None, 14, 14, 256)       2304      \n",
      "_________________________________________________________________\n",
      "batch_normalization_12 (Batc (None, 14, 14, 256)       1024      \n",
      "_________________________________________________________________\n",
      "activation_12 (Activation)   (None, 14, 14, 256)       0         \n",
      "_________________________________________________________________\n",
      "conv2d_7 (Conv2D)            (None, 14, 14, 512)       131072    \n",
      "_________________________________________________________________\n",
      "batch_normalization_13 (Batc (None, 14, 14, 512)       2048      \n",
      "_________________________________________________________________\n",
      "activation_13 (Activation)   (None, 14, 14, 512)       0         \n",
      "_________________________________________________________________\n",
      "depthwise_conv2d_7 (Depthwis (None, 7, 7, 512)         4608      \n",
      "_________________________________________________________________\n",
      "batch_normalization_14 (Batc (None, 7, 7, 512)         2048      \n",
      "_________________________________________________________________\n",
      "activation_14 (Activation)   (None, 7, 7, 512)         0         \n",
      "_________________________________________________________________\n",
      "conv2d_8 (Conv2D)            (None, 7, 7, 1024)        524288    \n",
      "_________________________________________________________________\n",
      "batch_normalization_15 (Batc (None, 7, 7, 1024)        4096      \n",
      "_________________________________________________________________\n",
      "activation_15 (Activation)   (None, 7, 7, 1024)        0         \n",
      "_________________________________________________________________\n",
      "depthwise_conv2d_8 (Depthwis (None, 7, 7, 1024)        9216      \n",
      "_________________________________________________________________\n",
      "batch_normalization_16 (Batc (None, 7, 7, 1024)        4096      \n",
      "_________________________________________________________________\n",
      "activation_16 (Activation)   (None, 7, 7, 1024)        0         \n",
      "_________________________________________________________________\n",
      "conv2d_9 (Conv2D)            (None, 7, 7, 1024)        1048576   \n",
      "_________________________________________________________________\n",
      "batch_normalization_17 (Batc (None, 7, 7, 1024)        4096      \n",
      "_________________________________________________________________\n",
      "activation_17 (Activation)   (None, 7, 7, 1024)        0         \n",
      "_________________________________________________________________\n",
      "global_average_pooling2d_1 ( (None, 1024)              0         \n",
      "_________________________________________________________________\n",
      "dense_1 (Dense)              (None, 1000)              1025000   \n",
      "=================================================================\n",
      "Total params: 2,899,624\n",
      "Trainable params: 2,887,976\n",
      "Non-trainable params: 11,648\n",
      "_________________________________________________________________\n"
     ]
    }
   ],
   "source": [
    "model.summary()"
   ]
  },
  {
   "cell_type": "code",
   "execution_count": 7,
   "metadata": {
    "collapsed": true
   },
   "outputs": [],
   "source": [
    "tb_callback = TB_writer(histogram_freq=5, write_images=True, log_dir=\"mobilenet\", val_gen=validation_generator)\n",
    "tb_callback.set_model(model)"
   ]
  },
  {
   "cell_type": "code",
   "execution_count": 8,
   "metadata": {},
   "outputs": [
    {
     "name": "stdout",
     "output_type": "stream",
     "text": [
      "Epoch 1/10\n",
      "   62/10009 [..............................] - ETA: 13026s - loss: 7.1990 - acc: 0.0010 "
     ]
    },
    {
     "name": "stderr",
     "output_type": "stream",
     "text": [
      "/usr/local/lib/python2.7/dist-packages/PIL/TiffImagePlugin.py:692: UserWarning: Possibly corrupt EXIF data.  Expecting to read 1835008 bytes but only got 0. Skipping tag 0\n",
      "  \"Skipping tag %s\" % (size, len(data), tag))\n"
     ]
    },
    {
     "name": "stdout",
     "output_type": "stream",
     "text": [
      "  465/10009 [>.............................] - ETA: 12387s - loss: 6.6446 - acc: 0.0071"
     ]
    },
    {
     "name": "stderr",
     "output_type": "stream",
     "text": [
      "/usr/local/lib/python2.7/dist-packages/PIL/TiffImagePlugin.py:692: UserWarning: Possibly corrupt EXIF data.  Expecting to read 2555904 bytes but only got 0. Skipping tag 0\n",
      "  \"Skipping tag %s\" % (size, len(data), tag))\n"
     ]
    },
    {
     "name": "stdout",
     "output_type": "stream",
     "text": [
      " 3216/10009 [========>.....................] - ETA: 9595s - loss: 5.2015 - acc: 0.0829"
     ]
    },
    {
     "name": "stderr",
     "output_type": "stream",
     "text": [
      "/usr/local/lib/python2.7/dist-packages/PIL/TiffImagePlugin.py:709: UserWarning: Corrupt EXIF data.  Expecting to read 4 bytes but only got 0. \n",
      "  warnings.warn(str(msg))\n"
     ]
    },
    {
     "name": "stdout",
     "output_type": "stream",
     "text": [
      " 9534/10009 [===========================>..] - ETA: 627s - loss: 4.1026 - acc: 0.2046"
     ]
    },
    {
     "name": "stderr",
     "output_type": "stream",
     "text": [
      "/usr/local/lib/python2.7/dist-packages/PIL/TiffImagePlugin.py:692: UserWarning: Possibly corrupt EXIF data.  Expecting to read 19660800 bytes but only got 0. Skipping tag 0\n",
      "  \"Skipping tag %s\" % (size, len(data), tag))\n",
      "/usr/local/lib/python2.7/dist-packages/PIL/TiffImagePlugin.py:692: UserWarning: Possibly corrupt EXIF data.  Expecting to read 18481152 bytes but only got 0. Skipping tag 0\n",
      "  \"Skipping tag %s\" % (size, len(data), tag))\n",
      "/usr/local/lib/python2.7/dist-packages/PIL/TiffImagePlugin.py:692: UserWarning: Possibly corrupt EXIF data.  Expecting to read 37093376 bytes but only got 0. Skipping tag 0\n",
      "  \"Skipping tag %s\" % (size, len(data), tag))\n",
      "/usr/local/lib/python2.7/dist-packages/PIL/TiffImagePlugin.py:692: UserWarning: Possibly corrupt EXIF data.  Expecting to read 39976960 bytes but only got 0. Skipping tag 0\n",
      "  \"Skipping tag %s\" % (size, len(data), tag))\n",
      "/usr/local/lib/python2.7/dist-packages/PIL/TiffImagePlugin.py:692: UserWarning: Possibly corrupt EXIF data.  Expecting to read 34865152 bytes but only got 0. Skipping tag 0\n",
      "  \"Skipping tag %s\" % (size, len(data), tag))\n",
      "/usr/local/lib/python2.7/dist-packages/PIL/TiffImagePlugin.py:709: UserWarning: Corrupt EXIF data.  Expecting to read 12 bytes but only got 10. \n",
      "  warnings.warn(str(msg))\n"
     ]
    },
    {
     "name": "stdout",
     "output_type": "stream",
     "text": [
      "10009/10009 [==============================] - 13492s - loss: 4.0552 - acc: 0.2108 - val_loss: 3.2710 - val_acc: 0.3067\n",
      "Epoch 2/10\n",
      "10009/10009 [==============================] - 13001s - loss: 2.7248 - acc: 0.4005 - val_loss: 3.0465 - val_acc: 0.3555\n",
      "Epoch 3/10\n",
      "10009/10009 [==============================] - 14008s - loss: 2.3196 - acc: 0.4743 - val_loss: 2.5442 - val_acc: 0.4363\n",
      "Epoch 4/10\n",
      "10009/10009 [==============================] - 14015s - loss: 2.0867 - acc: 0.5180 - val_loss: 2.6439 - val_acc: 0.4244\n",
      "Epoch 5/10\n",
      "10009/10009 [==============================] - 13032s - loss: 1.9279 - acc: 0.5491 - val_loss: 2.2872 - val_acc: 0.4872\n",
      "Epoch 6/10\n",
      "10009/10009 [==============================] - 13124s - loss: 1.8093 - acc: 0.5723 - val_loss: 2.1654 - val_acc: 0.5108\n",
      "Epoch 7/10\n",
      "10009/10009 [==============================] - 13099s - loss: 1.7163 - acc: 0.5909 - val_loss: 2.2054 - val_acc: 0.5037\n",
      "Epoch 8/10\n",
      "10009/10009 [==============================] - 13078s - loss: 1.6384 - acc: 0.6064 - val_loss: 2.1578 - val_acc: 0.5118\n",
      "Epoch 9/10\n",
      "10009/10009 [==============================] - 13056s - loss: 1.5743 - acc: 0.6195 - val_loss: 2.0663 - val_acc: 0.5319\n",
      "Epoch 10/10\n",
      "10009/10009 [==============================] - 14065s - loss: 1.5182 - acc: 0.6303 - val_loss: 2.0388 - val_acc: 0.5423\n"
     ]
    },
    {
     "data": {
      "text/plain": [
       "<keras.callbacks.History at 0x7fa5bfc963d0>"
      ]
     },
     "execution_count": 8,
     "metadata": {},
     "output_type": "execute_result"
    }
   ],
   "source": [
    "model.fit_generator(\n",
    "        train_generator,\n",
    "        steps_per_epoch = train_generator.samples / train_generator.batch_size,\n",
    "        epochs = 10,\n",
    "        validation_data = validation_generator,\n",
    "        validation_steps = validation_generator.samples / validation_generator.batch_size,\n",
    "        callbacks=[tb_callback])"
   ]
  },
  {
   "cell_type": "code",
   "execution_count": 9,
   "metadata": {},
   "outputs": [
    {
     "data": {
      "text/plain": [
       "1281167"
      ]
     },
     "execution_count": 9,
     "metadata": {},
     "output_type": "execute_result"
    }
   ],
   "source": [
    "train_generator.samples"
   ]
  },
  {
   "cell_type": "code",
   "execution_count": 10,
   "metadata": {
    "collapsed": true
   },
   "outputs": [],
   "source": [
    "model.save(\"mobilenet.h5\")"
   ]
  },
  {
   "cell_type": "code",
   "execution_count": null,
   "metadata": {
    "collapsed": true
   },
   "outputs": [],
   "source": []
  }
 ],
 "metadata": {
  "kernelspec": {
   "display_name": "Python 2",
   "language": "python",
   "name": "python2"
  },
  "language_info": {
   "codemirror_mode": {
    "name": "ipython",
    "version": 2
   },
   "file_extension": ".py",
   "mimetype": "text/x-python",
   "name": "python",
   "nbconvert_exporter": "python",
   "pygments_lexer": "ipython2",
   "version": "2.7.12"
  }
 },
 "nbformat": 4,
 "nbformat_minor": 2
}
