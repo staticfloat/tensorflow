{
 "cells": [
  {
   "cell_type": "code",
   "execution_count": 16,
   "metadata": {
    "collapsed": true
   },
   "outputs": [],
   "source": [
    "import tensorflow as tf\n",
    "from tensorflow.python.framework import ops\n",
    "import numpy as np"
   ]
  },
  {
   "cell_type": "code",
   "execution_count": 2,
   "metadata": {},
   "outputs": [
    {
     "name": "stdout",
     "output_type": "stream",
     "text": [
      "7.5\n",
      "[ 3.  7.]\n"
     ]
    }
   ],
   "source": [
    "a = tf.placeholder(tf.float32)\n",
    "b = tf.placeholder(tf.float32)\n",
    "adder_node = a + b  # + provides a shortcut for tf.add(a, b)\n",
    "sess = tf.Session()\n",
    "writer = tf.summary.FileWriter('/data/tensorflow/log', sess.graph)\n",
    "print(sess.run(adder_node, {a: 3, b:4.5}))\n",
    "print(sess.run(adder_node, {a: [1,3], b: [2, 4]}))\n",
    "writer.close()"
   ]
  },
  {
   "cell_type": "code",
   "execution_count": 3,
   "metadata": {
    "collapsed": true
   },
   "outputs": [],
   "source": [
    "c = tf.greater([1.0,2.0,0.0,3.0,0.0, -.5], 0.0)"
   ]
  },
  {
   "cell_type": "code",
   "execution_count": 4,
   "metadata": {},
   "outputs": [
    {
     "data": {
      "text/plain": [
       "array([ True,  True, False,  True, False, False], dtype=bool)"
      ]
     },
     "execution_count": 4,
     "metadata": {},
     "output_type": "execute_result"
    }
   ],
   "source": [
    "sess.run(c)"
   ]
  },
  {
   "cell_type": "code",
   "execution_count": 5,
   "metadata": {},
   "outputs": [
    {
     "data": {
      "text/plain": [
       "[None]"
      ]
     },
     "execution_count": 5,
     "metadata": {},
     "output_type": "execute_result"
    }
   ],
   "source": [
    "x = tf.Variable(.5)\n",
    "y = tf.cast(tf.greater(x, 0), tf.float32)\n",
    "tf.gradients([y], [x])"
   ]
  },
  {
   "cell_type": "code",
   "execution_count": 6,
   "metadata": {},
   "outputs": [
    {
     "data": {
      "text/plain": [
       "array([ 1.,  1., -1.,  1., -1., -1.], dtype=float32)"
      ]
     },
     "execution_count": 6,
     "metadata": {},
     "output_type": "execute_result"
    }
   ],
   "source": [
    "sess.run(tf.multiply(tf.subtract(tf.cast(c, tf.float32), .5), 2))"
   ]
  },
  {
   "cell_type": "code",
   "execution_count": 7,
   "metadata": {
    "collapsed": true
   },
   "outputs": [],
   "source": [
    "@ops.RegisterGradient(\"DubIdent\")\n",
    "def dubIdent(op, grad):\n",
    "    return [tf.ones(tf.shape(op.inputs[0])), tf.ones(tf.shape(op.inputs[1]))]\n",
    "\n",
    "@ops.RegisterGradient(\"Bin_ST\")\n",
    "def bin_ST(op, grad):\n",
    "    in_vals = op.inputs[0]\n",
    "    grad_func = tf.cast(tf.less_equal(tf.abs(in_vals), 1), tf.float32)\n",
    "    grad_out = tf.multiply(grad_func, grad)\n",
    "    return [grad_out]\n",
    "\n",
    "### binary sign function with straight through estimator gradient and associated gradient overrides ###\n",
    "def binarySign(x):\n",
    "    g = tf.get_default_graph()\n",
    "    with ops.name_scope(\"binarySign\") as name:       \n",
    "        with g.gradient_override_map({\"Sign\": \"Bin_ST\"}):\n",
    "            return tf.sign(x)"
   ]
  },
  {
   "cell_type": "code",
   "execution_count": null,
   "metadata": {
    "collapsed": true
   },
   "outputs": [],
   "source": [
    "### binary sign function with straight through estimator gradient and associated gradient overrides ###\n",
    "def binaryMultibit(x):\n",
    "    g = tf.get_default_graph()\n",
    "    with ops.name_scope(\"binaryMultibit\") as name:       \n",
    "        with g.gradient_override_map({\"Sign\": \"Bin_ST\"}):\n",
    "            return tf.sign(x)"
   ]
  },
  {
   "cell_type": "code",
   "execution_count": 8,
   "metadata": {},
   "outputs": [],
   "source": [
    "x = tf.constant([-1,2,-.3, .001, -.2])\n",
    "y = binarySign(x)\n",
    "out = tf.gradients([y], [x])"
   ]
  },
  {
   "cell_type": "code",
   "execution_count": 9,
   "metadata": {},
   "outputs": [
    {
     "data": {
      "text/plain": [
       "[array([ 1.,  0.,  1.,  1.,  1.], dtype=float32)]"
      ]
     },
     "execution_count": 9,
     "metadata": {},
     "output_type": "execute_result"
    }
   ],
   "source": [
    "sess.run(out)"
   ]
  },
  {
   "cell_type": "code",
   "execution_count": 10,
   "metadata": {
    "scrolled": true
   },
   "outputs": [
    {
     "data": {
      "text/plain": [
       "[<tf.Operation 'Placeholder' type=Placeholder>,\n",
       " <tf.Operation 'Placeholder_1' type=Placeholder>,\n",
       " <tf.Operation 'add' type=Add>,\n",
       " <tf.Operation 'Greater/x' type=Const>,\n",
       " <tf.Operation 'Greater/y' type=Const>,\n",
       " <tf.Operation 'Greater' type=Greater>,\n",
       " <tf.Operation 'Variable/initial_value' type=Const>,\n",
       " <tf.Operation 'Variable' type=VariableV2>,\n",
       " <tf.Operation 'Variable/Assign' type=Assign>,\n",
       " <tf.Operation 'Variable/read' type=Identity>,\n",
       " <tf.Operation 'Greater_1/y' type=Const>,\n",
       " <tf.Operation 'Greater_1' type=Greater>,\n",
       " <tf.Operation 'Cast' type=Cast>,\n",
       " <tf.Operation 'gradients/Shape' type=Const>,\n",
       " <tf.Operation 'gradients/Const' type=Const>,\n",
       " <tf.Operation 'gradients/Fill' type=Fill>,\n",
       " <tf.Operation 'Cast_1' type=Cast>,\n",
       " <tf.Operation 'Sub/y' type=Const>,\n",
       " <tf.Operation 'Sub' type=Sub>,\n",
       " <tf.Operation 'Mul/y' type=Const>,\n",
       " <tf.Operation 'Mul' type=Mul>,\n",
       " <tf.Operation 'Const' type=Const>,\n",
       " <tf.Operation 'binarySign/Sign' type=Sign>,\n",
       " <tf.Operation 'gradients_1/Shape' type=Const>,\n",
       " <tf.Operation 'gradients_1/Const' type=Const>,\n",
       " <tf.Operation 'gradients_1/Fill' type=Fill>,\n",
       " <tf.Operation 'gradients_1/binarySign/Sign_grad/Abs' type=Abs>,\n",
       " <tf.Operation 'gradients_1/binarySign/Sign_grad/LessEqual/y' type=Const>,\n",
       " <tf.Operation 'gradients_1/binarySign/Sign_grad/LessEqual' type=LessEqual>,\n",
       " <tf.Operation 'gradients_1/binarySign/Sign_grad/Cast' type=Cast>,\n",
       " <tf.Operation 'gradients_1/binarySign/Sign_grad/Mul' type=Mul>]"
      ]
     },
     "execution_count": 10,
     "metadata": {},
     "output_type": "execute_result"
    }
   ],
   "source": [
    "g = tf.get_default_graph()\n",
    "dir(g)\n",
    "g.get_operations()"
   ]
  },
  {
   "cell_type": "code",
   "execution_count": 90,
   "metadata": {},
   "outputs": [
    {
     "data": {
      "text/plain": [
       "array([-3.        , -2.5999999 , -2.20000005, -1.79999995, -1.39999986,\n",
       "       -0.99999994, -0.59999979, -0.19999981,  0.20000017,  0.60000014,\n",
       "        1.00000012,  1.4000001 ,  1.80000043,  2.20000029,  2.60000038,  3.        ], dtype=float32)"
      ]
     },
     "execution_count": 90,
     "metadata": {},
     "output_type": "execute_result"
    }
   ],
   "source": [
    "#x = tf.constant([-1,8,-.3, .001, -.2])\n",
    "x = tf.constant(10*np.random.rand(10))\n",
    "#test = tf.nn.l2_normalize(x, dim=0)\n",
    "round_vals = 3*tf.linspace(-1.0, 1.0, tf.pow(2, 4))\n",
    "#test = tf.reduce_sum(x)\n",
    "test_vals = sess.run(round_vals)\n",
    "test_vals"
   ]
  },
  {
   "cell_type": "code",
   "execution_count": 91,
   "metadata": {},
   "outputs": [
    {
     "data": {
      "text/plain": [
       "array([[0, 0, 0],\n",
       "       [0, 0, 0]])"
      ]
     },
     "execution_count": 91,
     "metadata": {},
     "output_type": "execute_result"
    }
   ],
   "source": [
    "#out = tf.gradients([test], [x])\n",
    "out = tf.argmax(test)\n",
    "sess.run(out)"
   ]
  },
  {
   "cell_type": "code",
   "execution_count": 177,
   "metadata": {},
   "outputs": [],
   "source": [
    "def bit_test(x, num_bits):    \n",
    "    # normalize globally\n",
    "    norm = tf.nn.l2_normalize(x, dim = range(len(x.shape)))\n",
    "    norm = tf.multiply(norm, tf.divide(1.0, tf.reduce_max(norm)))    \n",
    "    norm = tf.add(norm, 1)\n",
    "    norm = tf.multiply(norm, tf.pow(2.0, num_bits-1))\n",
    "    rounded = tf.subtract(tf.cast(tf.ceil(norm + 1e-8), tf.int32), 1)\n",
    "    round_vals = tf.linspace(-1.0, 1.0, tf.pow(2, num_bits))\n",
    "    return tf.gather(round_vals, rounded)   "
   ]
  },
  {
   "cell_type": "code",
   "execution_count": 179,
   "metadata": {},
   "outputs": [
    {
     "data": {
      "text/plain": [
       "array([-1.        , -0.86666667, -0.73333335, -0.60000002, -0.46666664,\n",
       "       -0.33333331, -0.19999999, -0.06666666,  0.06666672,  0.20000005,\n",
       "        0.33333337,  0.4666667 ,  0.60000002,  0.73333335,  0.86666667,  1.        ], dtype=float32)"
      ]
     },
     "execution_count": 179,
     "metadata": {},
     "output_type": "execute_result"
    }
   ],
   "source": [
    "test_op = bit_test(test_vals, 16)\n",
    "sess.run(test_op)"
   ]
  },
  {
   "cell_type": "code",
   "execution_count": 180,
   "metadata": {},
   "outputs": [
    {
     "data": {
      "text/plain": [
       "array([-1.        , -1.        , -1.        , -1.        , -0.33333331,\n",
       "       -0.33333331, -0.33333331, -0.33333331,  0.33333337,  0.33333337,\n",
       "        0.33333337,  0.33333337,  1.        ,  1.        ,  1.        ,  1.        ], dtype=float32)"
      ]
     },
     "execution_count": 180,
     "metadata": {},
     "output_type": "execute_result"
    }
   ],
   "source": [
    "test_op = bit_test(test_vals, 2)\n",
    "sess.run(test_op)"
   ]
  },
  {
   "cell_type": "code",
   "execution_count": 152,
   "metadata": {},
   "outputs": [
    {
     "data": {
      "text/plain": [
       "array([-3.        , -2.5999999 , -2.20000005, -1.79999995, -1.39999986,\n",
       "       -0.99999994, -0.59999979, -0.19999981,  0.20000017,  0.60000014,\n",
       "        1.00000012,  1.4000001 ,  1.80000043,  2.20000029,  2.60000038,  3.        ], dtype=float32)"
      ]
     },
     "execution_count": 152,
     "metadata": {},
     "output_type": "execute_result"
    }
   ],
   "source": [
    "test_vals"
   ]
  },
  {
   "cell_type": "code",
   "execution_count": null,
   "metadata": {
    "collapsed": true
   },
   "outputs": [],
   "source": []
  }
 ],
 "metadata": {
  "kernelspec": {
   "display_name": "Python 2",
   "language": "python",
   "name": "python2"
  },
  "language_info": {
   "codemirror_mode": {
    "name": "ipython",
    "version": 2
   },
   "file_extension": ".py",
   "mimetype": "text/x-python",
   "name": "python",
   "nbconvert_exporter": "python",
   "pygments_lexer": "ipython2",
   "version": "2.7.12"
  }
 },
 "nbformat": 4,
 "nbformat_minor": 2
}
