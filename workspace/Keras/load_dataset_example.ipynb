{
 "cells": [
  {
   "cell_type": "code",
   "execution_count": 1,
   "metadata": {},
   "outputs": [
    {
     "name": "stderr",
     "output_type": "stream",
     "text": [
      "Using TensorFlow backend.\n"
     ]
    }
   ],
   "source": [
    "import keras\n",
    "import tensorflow as tf\n",
    "import numpy as np\n",
    "from keras.preprocessing.image import ImageDataGenerator\n",
    "from keras.models import Model\n",
    "from keras.layers import Convolution2D, MaxPooling2D, Dropout, Flatten, Dense, Input, BatchNormalization, AveragePooling2D, Reshape, Activation\n",
    "from keras.layers.advanced_activations import PReLU\n",
    "from keras import backend as K\n",
    "from math import sqrt\n",
    "import sys\n",
    "from TB_writer import TB_writer\n",
    "sys.path.append('../CustomLayers/')\n",
    "from CustomLayers import *"
   ]
  },
  {
   "cell_type": "code",
   "execution_count": 4,
   "metadata": {},
   "outputs": [],
   "source": [
    "train_datagen = ImageDataGenerator(\n",
    "        rescale = 1./255,\n",
    "        shear_range = 0.2,\n",
    "        zoom_range = 0.2,\n",
    "        horizontal_flip = True)\n",
    "test_datagen = ImageDataGenerator(rescale=1./255)"
   ]
  },
  {
   "cell_type": "code",
   "execution_count": 5,
   "metadata": {},
   "outputs": [
    {
     "name": "stdout",
     "output_type": "stream",
     "text": [
      "Found 50000 images belonging to 10 classes.\n",
      "Found 10000 images belonging to 10 classes.\n"
     ]
    }
   ],
   "source": [
    "train_generator = train_datagen.flow_from_directory(\n",
    "        '/data/cifar/train/',\n",
    "        target_size=(32,32),\n",
    "        batch_size=32,\n",
    "        class_mode='categorical')\n",
    "validation_generator = test_datagen.flow_from_directory(\n",
    "        '/data/cifar/test/',\n",
    "        target_size=(32,32),\n",
    "        batch_size=32,\n",
    "        class_mode='categorical')"
   ]
  },
  {
   "cell_type": "code",
   "execution_count": 6,
   "metadata": {},
   "outputs": [],
   "source": [
    "img_w = 32\n",
    "img_h = 32\n",
    "img_c = 3\n",
    "inp = Input(shape=(img_w, img_h, img_c))\n",
    "\n",
    "z = Convolution2D(32, (3,3), activation='relu')(inp)\n",
    "z = MaxPooling2D(pool_size=(3,3), strides=(2,2))(z)\n",
    "\n",
    "z = BatchNormalization()(z)\n",
    "#z = Convolution2D(32, (3,3), activation='relu')(z)\n",
    "#z = BinLayer()(z)\n",
    "z = MultibitLayer(3)(z)\n",
    "z = BinConv(128, (3,3), kernel_regularizer=BinReg(), padding='same')(z)\n",
    "z = PReLU()(z)\n",
    "z = MaxPooling2D(pool_size=(3,3), strides=(2,2))(z)\n",
    "\n",
    "z = BatchNormalization()(z)\n",
    "#z = BinLayer()(z)\n",
    "z = MultibitLayer(3)(z)\n",
    "z = BinConv(128, (3,3), kernel_regularizer=BinReg(), padding='same')(z)\n",
    "z = PReLU()(z)\n",
    "z = MaxPooling2D(pool_size=(3,3), strides=(2,2))(z)\n",
    "\n",
    "z = BatchNormalization()(z)\n",
    "z = Convolution2D(10, (1,1), activation='relu')(z)\n",
    "z = AveragePooling2D(pool_size=(int(z.shape[1]), int(z.shape[2])))(z)\n",
    "z = Reshape((10,))(z)\n",
    "z = Activation('softmax')(z)\n",
    "\n",
    "model = Model(inputs=inp, outputs=z)"
   ]
  },
  {
   "cell_type": "code",
   "execution_count": 7,
   "metadata": {
    "collapsed": true
   },
   "outputs": [],
   "source": [
    "model.compile(loss='categorical_crossentropy',\n",
    "              optimizer='adam',\n",
    "              metrics=['accuracy'])"
   ]
  },
  {
   "cell_type": "code",
   "execution_count": 8,
   "metadata": {
    "scrolled": false
   },
   "outputs": [
    {
     "name": "stdout",
     "output_type": "stream",
     "text": [
      "_________________________________________________________________\n",
      "Layer (type)                 Output Shape              Param #   \n",
      "=================================================================\n",
      "input_1 (InputLayer)         (None, 32, 32, 3)         0         \n",
      "_________________________________________________________________\n",
      "conv2d_1 (Conv2D)            (None, 30, 30, 32)        896       \n",
      "_________________________________________________________________\n",
      "max_pooling2d_1 (MaxPooling2 (None, 14, 14, 32)        0         \n",
      "_________________________________________________________________\n",
      "batch_normalization_1 (Batch (None, 14, 14, 32)        128       \n",
      "_________________________________________________________________\n",
      "multibit_layer_1 (MultibitLa (None, 14, 14, 32)        0         \n",
      "_________________________________________________________________\n",
      "bin_conv_1 (BinConv)         (None, 14, 14, 128)       36992     \n",
      "_________________________________________________________________\n",
      "p_re_lu_1 (PReLU)            (None, 14, 14, 128)       25088     \n",
      "_________________________________________________________________\n",
      "max_pooling2d_2 (MaxPooling2 (None, 6, 6, 128)         0         \n",
      "_________________________________________________________________\n",
      "batch_normalization_2 (Batch (None, 6, 6, 128)         512       \n",
      "_________________________________________________________________\n",
      "multibit_layer_2 (MultibitLa (None, 6, 6, 128)         0         \n",
      "_________________________________________________________________\n",
      "bin_conv_2 (BinConv)         (None, 6, 6, 128)         147584    \n",
      "_________________________________________________________________\n",
      "p_re_lu_2 (PReLU)            (None, 6, 6, 128)         4608      \n",
      "_________________________________________________________________\n",
      "max_pooling2d_3 (MaxPooling2 (None, 2, 2, 128)         0         \n",
      "_________________________________________________________________\n",
      "batch_normalization_3 (Batch (None, 2, 2, 128)         512       \n",
      "_________________________________________________________________\n",
      "conv2d_2 (Conv2D)            (None, 2, 2, 10)          1290      \n",
      "_________________________________________________________________\n",
      "average_pooling2d_1 (Average (None, 1, 1, 10)          0         \n",
      "_________________________________________________________________\n",
      "reshape_1 (Reshape)          (None, 10)                0         \n",
      "_________________________________________________________________\n",
      "activation_1 (Activation)    (None, 10)                0         \n",
      "=================================================================\n",
      "Total params: 217,610\n",
      "Trainable params: 217,034\n",
      "Non-trainable params: 576\n",
      "_________________________________________________________________\n"
     ]
    }
   ],
   "source": [
    "model.summary()"
   ]
  },
  {
   "cell_type": "code",
   "execution_count": 9,
   "metadata": {},
   "outputs": [],
   "source": [
    "tb_callback = TB_writer(histogram_freq=1, write_images=True, log_dir=\"cifar_test_binary\", val_gen=validation_generator)\n",
    "tb_callback.set_model(model)"
   ]
  },
  {
   "cell_type": "code",
   "execution_count": 10,
   "metadata": {},
   "outputs": [
    {
     "name": "stdout",
     "output_type": "stream",
     "text": [
      "Epoch 1/10\n",
      "100/100 [==============================] - 3s - loss: 2.5142 - acc: 0.2972 - val_loss: 3.3439 - val_acc: 0.1862\n",
      "Epoch 2/10\n",
      "100/100 [==============================] - 2s - loss: 2.2553 - acc: 0.3991 - val_loss: 4.6993 - val_acc: 0.1775\n",
      "Epoch 3/10\n",
      "100/100 [==============================] - 2s - loss: 2.1618 - acc: 0.4309 - val_loss: 3.9613 - val_acc: 0.1609\n",
      "Epoch 4/10\n",
      "100/100 [==============================] - 2s - loss: 2.0620 - acc: 0.4731 - val_loss: 3.6179 - val_acc: 0.1643\n",
      "Epoch 5/10\n",
      "100/100 [==============================] - 2s - loss: 2.0338 - acc: 0.4756 - val_loss: 2.4319 - val_acc: 0.3647\n",
      "Epoch 6/10\n",
      "100/100 [==============================] - 2s - loss: 2.0175 - acc: 0.4869 - val_loss: 2.0824 - val_acc: 0.4500\n",
      "Epoch 7/10\n",
      "100/100 [==============================] - 2s - loss: 1.9792 - acc: 0.4934 - val_loss: 2.0066 - val_acc: 0.5006\n",
      "Epoch 8/10\n",
      "100/100 [==============================] - 2s - loss: 1.9498 - acc: 0.5147 - val_loss: 1.9076 - val_acc: 0.5066\n",
      "Epoch 9/10\n",
      "100/100 [==============================] - 2s - loss: 1.9145 - acc: 0.5325 - val_loss: 1.8711 - val_acc: 0.5353\n",
      "Epoch 10/10\n",
      "100/100 [==============================] - 2s - loss: 1.9430 - acc: 0.5075 - val_loss: 1.9880 - val_acc: 0.4937\n"
     ]
    },
    {
     "data": {
      "text/plain": [
       "<keras.callbacks.History at 0x7f7bb121d710>"
      ]
     },
     "execution_count": 10,
     "metadata": {},
     "output_type": "execute_result"
    }
   ],
   "source": [
    "model.fit_generator(\n",
    "        train_generator,\n",
    "        steps_per_epoch=100,\n",
    "        epochs=10,\n",
    "        validation_data=validation_generator,\n",
    "        validation_steps=100,\n",
    "        callbacks=[tb_callback])"
   ]
  },
  {
   "cell_type": "code",
   "execution_count": 11,
   "metadata": {
    "collapsed": true
   },
   "outputs": [],
   "source": [
    "from PIL import Image"
   ]
  },
  {
   "cell_type": "code",
   "execution_count": 12,
   "metadata": {
    "collapsed": true
   },
   "outputs": [],
   "source": [
    "def load_image( infilename ) :\n",
    "    img = Image.open( infilename )\n",
    "    img.load()\n",
    "    data = np.asarray( img, dtype=\"float32\" )\n",
    "    data = data/255\n",
    "    return data"
   ]
  },
  {
   "cell_type": "code",
   "execution_count": 13,
   "metadata": {
    "collapsed": true
   },
   "outputs": [],
   "source": [
    "image = load_image(\"/data/cifar/test/truck/1008_truck.png\")\n",
    "image = image.reshape((1,)+image.shape)"
   ]
  },
  {
   "cell_type": "code",
   "execution_count": 14,
   "metadata": {
    "collapsed": true
   },
   "outputs": [],
   "source": [
    "class_map =validation_generator.class_indices"
   ]
  },
  {
   "cell_type": "code",
   "execution_count": 15,
   "metadata": {
    "collapsed": true
   },
   "outputs": [],
   "source": [
    "guess = np.argmax(model.predict(image))"
   ]
  },
  {
   "cell_type": "code",
   "execution_count": 16,
   "metadata": {},
   "outputs": [
    {
     "data": {
      "text/plain": [
       "{'airplane': 0,\n",
       " 'automobile': 1,\n",
       " 'bird': 2,\n",
       " 'cat': 3,\n",
       " 'deer': 4,\n",
       " 'dog': 5,\n",
       " 'frog': 6,\n",
       " 'horse': 7,\n",
       " 'ship': 8,\n",
       " 'truck': 9}"
      ]
     },
     "execution_count": 16,
     "metadata": {},
     "output_type": "execute_result"
    }
   ],
   "source": [
    "validation_generator.class_indices"
   ]
  },
  {
   "cell_type": "code",
   "execution_count": 17,
   "metadata": {
    "collapsed": true
   },
   "outputs": [],
   "source": [
    "cifar_labels=['airplane', 'automobile', 'bird', 'cat', 'deer', 'dog', 'frog', 'horse', 'ship', 'truck']"
   ]
  },
  {
   "cell_type": "code",
   "execution_count": 18,
   "metadata": {},
   "outputs": [
    {
     "data": {
      "text/plain": [
       "'automobile'"
      ]
     },
     "execution_count": 18,
     "metadata": {},
     "output_type": "execute_result"
    }
   ],
   "source": [
    "cifar_labels[guess]"
   ]
  },
  {
   "cell_type": "code",
   "execution_count": null,
   "metadata": {
    "collapsed": true
   },
   "outputs": [],
   "source": []
  }
 ],
 "metadata": {
  "kernelspec": {
   "display_name": "Python 2",
   "language": "python",
   "name": "python2"
  },
  "language_info": {
   "codemirror_mode": {
    "name": "ipython",
    "version": 2
   },
   "file_extension": ".py",
   "mimetype": "text/x-python",
   "name": "python",
   "nbconvert_exporter": "python",
   "pygments_lexer": "ipython2",
   "version": "2.7.12"
  }
 },
 "nbformat": 4,
 "nbformat_minor": 2
}
