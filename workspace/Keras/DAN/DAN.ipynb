{
 "cells": [
  {
   "cell_type": "code",
   "execution_count": 1,
   "metadata": {},
   "outputs": [
    {
     "name": "stderr",
     "output_type": "stream",
     "text": [
      "Using TensorFlow backend.\n"
     ]
    }
   ],
   "source": [
    "import keras\n",
    "import tensorflow as tf\n",
    "import keras.backend as K\n",
    "import numpy as np\n",
    "from keras.preprocessing.image import ImageDataGenerator\n",
    "from keras.models import Model, Sequential\n",
    "from keras.layers import Convolution2D, MaxPooling2D, AveragePooling2D, Activation, BatchNormalization, Input, Reshape, Dense, GlobalAveragePooling2D, Flatten\n",
    "from keras.datasets import mnist, cifar10\n",
    "from PIL import Image\n",
    "from keras.utils import np_utils\n",
    "from keras.utils import plot_model\n",
    "from keras.optimizers import SGD\n",
    "import pydot\n",
    "import graphviz"
   ]
  },
  {
   "cell_type": "code",
   "execution_count": 2,
   "metadata": {
    "collapsed": true
   },
   "outputs": [],
   "source": [
    "train_datagen = ImageDataGenerator(\n",
    "        rescale = 1./255,\n",
    "        shear_range = 0.2,\n",
    "        zoom_range = 0.2,\n",
    "        horizontal_flip = True)\n",
    "test_datagen = ImageDataGenerator(rescale=1./255)"
   ]
  },
  {
   "cell_type": "code",
   "execution_count": 3,
   "metadata": {},
   "outputs": [
    {
     "name": "stdout",
     "output_type": "stream",
     "text": [
      "Found 50000 images belonging to 10 classes.\n",
      "Found 10000 images belonging to 10 classes.\n"
     ]
    }
   ],
   "source": [
    "train_generator = train_datagen.flow_from_directory(\n",
    "        '/data/cifar/train/',\n",
    "        target_size=(32,32),\n",
    "        batch_size=32,\n",
    "        class_mode='categorical')\n",
    "validation_generator = test_datagen.flow_from_directory(\n",
    "        '/data/cifar/test/',\n",
    "        target_size=(32,32),\n",
    "        batch_size=32,\n",
    "        class_mode='categorical')"
   ]
  },
  {
   "cell_type": "code",
   "execution_count": 4,
   "metadata": {
    "collapsed": true
   },
   "outputs": [],
   "source": [
    "def class_model_head():\n",
    "    model = Sequential()\n",
    "    model.add(Convolution2D(16, (3,3), activation='relu', padding='same', input_shape=(32,32,3)))\n",
    "    model.add(BatchNormalization())\n",
    "    \n",
    "    model.add(Convolution2D(64, (3,3), activation='relu', padding='same'))\n",
    "    model.add(BatchNormalization())\n",
    "    \n",
    "    model.add(Convolution2D(64, (3,3), activation='relu', padding='same'))\n",
    "    model.add(BatchNormalization())\n",
    "    \n",
    "    model.add(Convolution2D(64, (3,3), activation='relu', padding='same'))\n",
    "    model.add(BatchNormalization())\n",
    "    model.add(MaxPooling2D(pool_size=(3,3), strides=(2,2)))\n",
    "    \n",
    "    model.add(Convolution2D(128, (3,3), activation='relu', padding='same'))\n",
    "    model.add(BatchNormalization())\n",
    "    \n",
    "    model.add(Convolution2D(128, (3,3), activation='relu', padding='same'))\n",
    "    model.add(BatchNormalization())\n",
    "    \n",
    "    return model"
   ]
  },
  {
   "cell_type": "code",
   "execution_count": 5,
   "metadata": {
    "collapsed": true
   },
   "outputs": [],
   "source": [
    "def class_model_tail():\n",
    "    model = Sequential()\n",
    "    model.add(Convolution2D(128, (3,3), activation='relu', padding='same', input_shape=(15, 15, 128)))\n",
    "    model.add(BatchNormalization())\n",
    "    model.add(MaxPooling2D(pool_size=(3,3), strides=(2,2)))\n",
    "\n",
    "    model.add(Convolution2D(10, (1,1), activation='relu'))\n",
    "    model.add(AveragePooling2D(pool_size=(int(model.output.shape[1]), int(model.output.shape[2]))))\n",
    "    model.add(Reshape((10,)))\n",
    "    model.add(Activation('softmax'))\n",
    "    return model"
   ]
  },
  {
   "cell_type": "code",
   "execution_count": 6,
   "metadata": {
    "collapsed": true
   },
   "outputs": [],
   "source": [
    "def disc_model():\n",
    "    model = Sequential()\n",
    "    model.add(Convolution2D(128, (3,3), activation='relu', padding='same', input_shape=(15, 15, 128)))\n",
    "    #model.add(BatchNormalization())\n",
    "    model.add(Convolution2D(128, (3,3), activation='relu', padding='same'))\n",
    "    #model.add(BatchNormalization())\n",
    "    model.add(Convolution2D(128, (3,3), activation='relu', padding='same'))\n",
    "    #model.add(BatchNormalization())\n",
    "    model.add(Convolution2D(128, (3,3), activation='relu', padding='same'))\n",
    "    #model.add(BatchNormalization())\n",
    "    model.add(GlobalAveragePooling2D())\n",
    "    model.add(Dense(1, activation='sigmoid'))\n",
    "    return model"
   ]
  },
  {
   "cell_type": "code",
   "execution_count": 7,
   "metadata": {
    "collapsed": true
   },
   "outputs": [],
   "source": [
    "def attach_head_to_tail(head, tail):\n",
    "    model = Sequential()\n",
    "    model.add(head)\n",
    "    model.add(tail)\n",
    "    return model"
   ]
  },
  {
   "cell_type": "code",
   "execution_count": 8,
   "metadata": {
    "collapsed": true
   },
   "outputs": [],
   "source": [
    "def combined_model(disc, feature_out):\n",
    "    z = disc(feature_out)\n",
    "    return z"
   ]
  },
  {
   "cell_type": "code",
   "execution_count": 9,
   "metadata": {
    "collapsed": true
   },
   "outputs": [],
   "source": [
    "def make_trainable(model, val):\n",
    "    model.trainable = val\n",
    "    for l in model.layers:\n",
    "        l.trainable = val"
   ]
  },
  {
   "cell_type": "code",
   "execution_count": 10,
   "metadata": {
    "collapsed": true
   },
   "outputs": [],
   "source": [
    "class_head = class_model_head()\n",
    "class_tail = class_model_tail()\n",
    "class_combined = attach_head_to_tail(class_head, class_tail)\n",
    "disc_tail = disc_model()\n",
    "disc_combined = attach_head_to_tail(class_head, disc_tail)\n",
    "disc_update = attach_head_to_tail(class_head, disc_tail)\n",
    "\n",
    "# compile class combined for updating training accuracy\n",
    "make_trainable(class_head, True)\n",
    "make_trainable(class_tail, True)\n",
    "class_combined.compile(loss='categorical_crossentropy', optimizer='adam', metrics=['accuracy'])\n",
    "\n",
    "# compile discriminator combined for updating discrimination\n",
    "make_trainable(class_head, False)\n",
    "make_trainable(disc_tail, True)\n",
    "disc_combined.compile(loss='binary_crossentropy', optimizer='adam', metrics=['accuracy'])\n",
    "\n",
    "# compile discriminator chain that allows head to update\n",
    "make_trainable(class_head, True)\n",
    "make_trainable(disc_tail, False)\n",
    "disc_update.compile(loss='binary_crossentropy', optimizer='adam', metrics=['accuracy'])\n"
   ]
  },
  {
   "cell_type": "code",
   "execution_count": 11,
   "metadata": {},
   "outputs": [
    {
     "name": "stdout",
     "output_type": "stream",
     "text": [
      "env: CUDA_VISIBLE_DEVICES=0\n"
     ]
    }
   ],
   "source": [
    "# only eat one gpu so i can work on other stuff\n",
    "%env CUDA_VISIBLE_DEVICES=0"
   ]
  },
  {
   "cell_type": "code",
   "execution_count": 12,
   "metadata": {
    "collapsed": true
   },
   "outputs": [],
   "source": [
    "sess = tf.Session(config=tf.ConfigProto(log_device_placement=True))\n",
    "K.set_session(sess)"
   ]
  },
  {
   "cell_type": "code",
   "execution_count": 13,
   "metadata": {},
   "outputs": [
    {
     "name": "stdout",
     "output_type": "stream",
     "text": [
      "Epoch 1/10\n",
      "100/100 [==============================] - 3s - loss: 1.9687 - acc: 0.2875 - val_loss: 3.6325 - val_acc: 0.1062\n",
      "Epoch 2/10\n",
      "100/100 [==============================] - 2s - loss: 1.6740 - acc: 0.3956 - val_loss: 4.0681 - val_acc: 0.1116\n",
      "Epoch 3/10\n",
      "100/100 [==============================] - 2s - loss: 1.5741 - acc: 0.4275 - val_loss: 3.2819 - val_acc: 0.1659\n",
      "Epoch 4/10\n",
      "100/100 [==============================] - 2s - loss: 1.4337 - acc: 0.4906 - val_loss: 2.5368 - val_acc: 0.2169\n",
      "Epoch 5/10\n",
      "100/100 [==============================] - 2s - loss: 1.3601 - acc: 0.5209 - val_loss: 1.6462 - val_acc: 0.4169\n",
      "Epoch 6/10\n",
      "100/100 [==============================] - 2s - loss: 1.2821 - acc: 0.5503 - val_loss: 1.4322 - val_acc: 0.4878\n",
      "Epoch 7/10\n",
      "100/100 [==============================] - 2s - loss: 1.2687 - acc: 0.5628 - val_loss: 1.5055 - val_acc: 0.4966\n",
      "Epoch 8/10\n",
      "100/100 [==============================] - 2s - loss: 1.2218 - acc: 0.5728 - val_loss: 1.4078 - val_acc: 0.5197\n",
      "Epoch 9/10\n",
      "100/100 [==============================] - 2s - loss: 1.1949 - acc: 0.5741 - val_loss: 1.6015 - val_acc: 0.5016\n",
      "Epoch 10/10\n",
      "100/100 [==============================] - 2s - loss: 1.1384 - acc: 0.6078 - val_loss: 1.4192 - val_acc: 0.5450\n"
     ]
    },
    {
     "data": {
      "text/plain": [
       "<keras.callbacks.History at 0x7f85dc31fe90>"
      ]
     },
     "execution_count": 13,
     "metadata": {},
     "output_type": "execute_result"
    }
   ],
   "source": [
    "# i guess lets start with a trained classifier\n",
    "class_combined.fit_generator(\n",
    "        train_generator,\n",
    "        steps_per_epoch=100,\n",
    "        epochs=10,\n",
    "        validation_data=validation_generator,\n",
    "        validation_steps=100)"
   ]
  },
  {
   "cell_type": "code",
   "execution_count": 13,
   "metadata": {},
   "outputs": [
    {
     "name": "stdout",
     "output_type": "stream",
     "text": [
      "[1.2548007965087891, 0.65625]\n"
     ]
    }
   ],
   "source": [
    "(X_test, Y_test) = validation_generator.next()\n",
    "score = class_combined.evaluate(X_test, Y_test, verbose=0)\n",
    "print(score)"
   ]
  },
  {
   "cell_type": "code",
   "execution_count": 14,
   "metadata": {
    "collapsed": true
   },
   "outputs": [],
   "source": [
    "#sess=K.get_session()\n",
    "#print(class_combined.weights[0].shape)\n",
    "#sess.run(class_combined.weights[0])"
   ]
  },
  {
   "cell_type": "code",
   "execution_count": 15,
   "metadata": {
    "scrolled": true
   },
   "outputs": [
    {
     "name": "stdout",
     "output_type": "stream",
     "text": [
      "('Epoch: ', 0)\n"
     ]
    },
    {
     "ename": "KeyboardInterrupt",
     "evalue": "",
     "output_type": "error",
     "traceback": [
      "\u001b[0;31m---------------------------------------------------------------------------\u001b[0m",
      "\u001b[0;31mKeyboardInterrupt\u001b[0m                         Traceback (most recent call last)",
      "\u001b[0;32m<ipython-input-15-8c33dc91b625>\u001b[0m in \u001b[0;36m<module>\u001b[0;34m()\u001b[0m\n\u001b[1;32m      5\u001b[0m         \u001b[0;31m# train the discriminator a little\u001b[0m\u001b[0;34m\u001b[0m\u001b[0;34m\u001b[0m\u001b[0m\n\u001b[1;32m      6\u001b[0m         \u001b[0;31m# grab a batch of train data\u001b[0m\u001b[0;34m\u001b[0m\u001b[0;34m\u001b[0m\u001b[0m\n\u001b[0;32m----> 7\u001b[0;31m         \u001b[0;34m(\u001b[0m\u001b[0mtrain_x\u001b[0m\u001b[0;34m,\u001b[0m \u001b[0mtrain_y\u001b[0m\u001b[0;34m)\u001b[0m \u001b[0;34m=\u001b[0m \u001b[0mtrain_generator\u001b[0m\u001b[0;34m.\u001b[0m\u001b[0mnext\u001b[0m\u001b[0;34m(\u001b[0m\u001b[0;34m)\u001b[0m\u001b[0;34m\u001b[0m\u001b[0m\n\u001b[0m\u001b[1;32m      8\u001b[0m         \u001b[0;34m(\u001b[0m\u001b[0mval_x\u001b[0m\u001b[0;34m,\u001b[0m \u001b[0mval_y\u001b[0m\u001b[0;34m)\u001b[0m \u001b[0;34m=\u001b[0m \u001b[0mvalidation_generator\u001b[0m\u001b[0;34m.\u001b[0m\u001b[0mnext\u001b[0m\u001b[0;34m(\u001b[0m\u001b[0;34m)\u001b[0m\u001b[0;34m\u001b[0m\u001b[0m\n\u001b[1;32m      9\u001b[0m         \u001b[0;31m#train_x = np.ones((16, 15, 15, 128))\u001b[0m\u001b[0;34m\u001b[0m\u001b[0;34m\u001b[0m\u001b[0m\n",
      "\u001b[0;32m/usr/local/lib/python2.7/dist-packages/keras/preprocessing/image.pyc\u001b[0m in \u001b[0;36mnext\u001b[0;34m(self)\u001b[0m\n\u001b[1;32m   1031\u001b[0m                            target_size=self.target_size)\n\u001b[1;32m   1032\u001b[0m             \u001b[0mx\u001b[0m \u001b[0;34m=\u001b[0m \u001b[0mimg_to_array\u001b[0m\u001b[0;34m(\u001b[0m\u001b[0mimg\u001b[0m\u001b[0;34m,\u001b[0m \u001b[0mdata_format\u001b[0m\u001b[0;34m=\u001b[0m\u001b[0mself\u001b[0m\u001b[0;34m.\u001b[0m\u001b[0mdata_format\u001b[0m\u001b[0;34m)\u001b[0m\u001b[0;34m\u001b[0m\u001b[0m\n\u001b[0;32m-> 1033\u001b[0;31m             \u001b[0mx\u001b[0m \u001b[0;34m=\u001b[0m \u001b[0mself\u001b[0m\u001b[0;34m.\u001b[0m\u001b[0mimage_data_generator\u001b[0m\u001b[0;34m.\u001b[0m\u001b[0mrandom_transform\u001b[0m\u001b[0;34m(\u001b[0m\u001b[0mx\u001b[0m\u001b[0;34m)\u001b[0m\u001b[0;34m\u001b[0m\u001b[0m\n\u001b[0m\u001b[1;32m   1034\u001b[0m             \u001b[0mx\u001b[0m \u001b[0;34m=\u001b[0m \u001b[0mself\u001b[0m\u001b[0;34m.\u001b[0m\u001b[0mimage_data_generator\u001b[0m\u001b[0;34m.\u001b[0m\u001b[0mstandardize\u001b[0m\u001b[0;34m(\u001b[0m\u001b[0mx\u001b[0m\u001b[0;34m)\u001b[0m\u001b[0;34m\u001b[0m\u001b[0m\n\u001b[1;32m   1035\u001b[0m             \u001b[0mbatch_x\u001b[0m\u001b[0;34m[\u001b[0m\u001b[0mi\u001b[0m\u001b[0;34m]\u001b[0m \u001b[0;34m=\u001b[0m \u001b[0mx\u001b[0m\u001b[0;34m\u001b[0m\u001b[0m\n",
      "\u001b[0;32m/usr/local/lib/python2.7/dist-packages/keras/preprocessing/image.pyc\u001b[0m in \u001b[0;36mrandom_transform\u001b[0;34m(self, x)\u001b[0m\n\u001b[1;32m    582\u001b[0m \u001b[0;34m\u001b[0m\u001b[0m\n\u001b[1;32m    583\u001b[0m         \u001b[0;32mif\u001b[0m \u001b[0mshear\u001b[0m \u001b[0;34m!=\u001b[0m \u001b[0;36m0\u001b[0m\u001b[0;34m:\u001b[0m\u001b[0;34m\u001b[0m\u001b[0m\n\u001b[0;32m--> 584\u001b[0;31m             shear_matrix = np.array([[1, -np.sin(shear), 0],\n\u001b[0m\u001b[1;32m    585\u001b[0m                                     \u001b[0;34m[\u001b[0m\u001b[0;36m0\u001b[0m\u001b[0;34m,\u001b[0m \u001b[0mnp\u001b[0m\u001b[0;34m.\u001b[0m\u001b[0mcos\u001b[0m\u001b[0;34m(\u001b[0m\u001b[0mshear\u001b[0m\u001b[0;34m)\u001b[0m\u001b[0;34m,\u001b[0m \u001b[0;36m0\u001b[0m\u001b[0;34m]\u001b[0m\u001b[0;34m,\u001b[0m\u001b[0;34m\u001b[0m\u001b[0m\n\u001b[1;32m    586\u001b[0m                                     [0, 0, 1]])\n",
      "\u001b[0;31mKeyboardInterrupt\u001b[0m: "
     ]
    }
   ],
   "source": [
    "for epoch in range(2):\n",
    "    print(\"Epoch: \", epoch)\n",
    "    #for batch in range(train_generator.samples/train_generator.batch_size):\n",
    "    for batch in range(1000):\n",
    "        # train the discriminator a little\n",
    "        # grab a batch of train data\n",
    "        (train_x, train_y) = train_generator.next()\n",
    "        (val_x, val_y) = validation_generator.next()\n",
    "        #train_x = np.ones((16, 15, 15, 128))\n",
    "        # grab a batch of valid data\n",
    "        #val_x = np.zeros(train_x.shape)\n",
    "        # concatenate the two x values to provide mixed input to discriminator\n",
    "        combined_x = np.concatenate((train_x, val_x))\n",
    "        # create the labels for combined data\n",
    "        combined_y = [1] * train_x.shape[0] + [0] * val_x.shape[0]\n",
    "        # train the discriminator on this batch\n",
    "        disc_combined.train_on_batch(combined_x, combined_y)\n",
    "        # next, train the classification top based on the discriminator\n",
    "        combined_y_reverse = [0] * train_x.shape[0] + [1]*val_x.shape[0]\n",
    "        disc_update.train_on_batch(combined_x, combined_y_reverse)\n",
    "        # finally, just train the classification a little bit\n",
    "        class_combined.train_on_batch(train_x, train_y)\n",
    "        #disc_combined.fit(combined_x, combined_y, epochs=1)\n",
    "        #disc_combined.fit(combined_x, combined_y, epochs=1)       \n",
    "        \n",
    "    "
   ]
  },
  {
   "cell_type": "code",
   "execution_count": null,
   "metadata": {
    "collapsed": true
   },
   "outputs": [],
   "source": [
    "#print(class_combined.weights[0].shape)\n",
    "#sess.run(class_combined.weights[0])"
   ]
  },
  {
   "cell_type": "code",
   "execution_count": null,
   "metadata": {
    "collapsed": true
   },
   "outputs": [],
   "source": [
    "(train_x, train_y) = validation_generator.next()\n",
    "print(np.mean(disc_combined.predict(train_x)))\n",
    "(train_x, train_y) = train_generator.next()\n",
    "print(np.mean(disc_combined.predict(train_x)))"
   ]
  },
  {
   "cell_type": "code",
   "execution_count": null,
   "metadata": {
    "collapsed": true
   },
   "outputs": [],
   "source": []
  }
 ],
 "metadata": {
  "kernelspec": {
   "display_name": "Python 2",
   "language": "python",
   "name": "python2"
  },
  "language_info": {
   "codemirror_mode": {
    "name": "ipython",
    "version": 2
   },
   "file_extension": ".py",
   "mimetype": "text/x-python",
   "name": "python",
   "nbconvert_exporter": "python",
   "pygments_lexer": "ipython2",
   "version": "2.7.12"
  }
 },
 "nbformat": 4,
 "nbformat_minor": 2
}
