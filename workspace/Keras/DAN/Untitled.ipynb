{
 "cells": [
  {
   "cell_type": "code",
   "execution_count": 1,
   "metadata": {},
   "outputs": [
    {
     "name": "stderr",
     "output_type": "stream",
     "text": [
      "Using TensorFlow backend.\n"
     ]
    }
   ],
   "source": [
    "import keras\n",
    "import tensorflow as tf\n",
    "import keras.backend as K\n",
    "import numpy as np\n",
    "from keras.preprocessing.image import ImageDataGenerator\n",
    "from keras.models import Model, Sequential\n",
    "from keras.layers import Convolution2D, MaxPooling2D, AveragePooling2D, Activation, BatchNormalization, Input, Reshape, Dense, GlobalAveragePooling2D, Flatten\n",
    "from keras.datasets import mnist, cifar10\n",
    "from PIL import Image\n",
    "from keras.utils import np_utils\n",
    "from keras.utils import plot_model\n",
    "from keras.optimizers import SGD\n",
    "import pydot\n",
    "import graphviz"
   ]
  },
  {
   "cell_type": "code",
   "execution_count": 24,
   "metadata": {},
   "outputs": [],
   "source": [
    "def test_model():\n",
    "    model = Sequential()\n",
    "    model.add(Dense(1, input_shape=(1000,), activation='sigmoid'))\n",
    "    return model"
   ]
  },
  {
   "cell_type": "code",
   "execution_count": 25,
   "metadata": {},
   "outputs": [],
   "source": [
    "ones = np.ones((10000, 1000))\n",
    "zeros = np.zeros((10000, 1000))\n",
    "x_train = np.concatenate((ones, zeros))\n",
    "y_train = np.asarray(10000*[1] + 10000*[0])\n",
    "#y_train = np_utils.to_categorical(y_train, 2)"
   ]
  },
  {
   "cell_type": "code",
   "execution_count": 26,
   "metadata": {},
   "outputs": [
    {
     "name": "stdout",
     "output_type": "stream",
     "text": [
      "Epoch 1/10\n",
      "20000/20000 [==============================] - 1s - loss: 0.2236 - acc: 0.9992     \n",
      "Epoch 2/10\n",
      "20000/20000 [==============================] - 0s - loss: 0.1087 - acc: 1.0000     \n",
      "Epoch 3/10\n",
      "20000/20000 [==============================] - 0s - loss: 0.0689 - acc: 1.0000     \n",
      "Epoch 4/10\n",
      "20000/20000 [==============================] - 0s - loss: 0.0497 - acc: 1.0000     \n",
      "Epoch 5/10\n",
      "20000/20000 [==============================] - 0s - loss: 0.0387 - acc: 1.0000     \n",
      "Epoch 6/10\n",
      "20000/20000 [==============================] - 0s - loss: 0.0316 - acc: 1.0000     \n",
      "Epoch 7/10\n",
      "20000/20000 [==============================] - 0s - loss: 0.0266 - acc: 1.0000     \n",
      "Epoch 8/10\n",
      "20000/20000 [==============================] - 0s - loss: 0.0230 - acc: 1.0000     \n",
      "Epoch 9/10\n",
      "20000/20000 [==============================] - 0s - loss: 0.0202 - acc: 1.0000     \n",
      "Epoch 10/10\n",
      "20000/20000 [==============================] - 0s - loss: 0.0180 - acc: 1.0000     \n"
     ]
    },
    {
     "data": {
      "text/plain": [
       "<keras.callbacks.History at 0x7fcb3cfed310>"
      ]
     },
     "execution_count": 26,
     "metadata": {},
     "output_type": "execute_result"
    }
   ],
   "source": [
    "model = test_model()\n",
    "model.compile(optimizer='sgd', loss='binary_crossentropy', metrics=['accuracy'])\n",
    "model.fit(x_train, y_train)"
   ]
  },
  {
   "cell_type": "code",
   "execution_count": 28,
   "metadata": {},
   "outputs": [
    {
     "data": {
      "text/plain": [
       "array([[ 0.99993503]], dtype=float32)"
      ]
     },
     "execution_count": 28,
     "metadata": {},
     "output_type": "execute_result"
    }
   ],
   "source": [
    "model.predict(np.ones((1, 1000)))"
   ]
  },
  {
   "cell_type": "code",
   "execution_count": 19,
   "metadata": {},
   "outputs": [
    {
     "data": {
      "text/plain": [
       "array([ 0.,  1.])"
      ]
     },
     "execution_count": 19,
     "metadata": {},
     "output_type": "execute_result"
    }
   ],
   "source": [
    "y_train[0]"
   ]
  },
  {
   "cell_type": "code",
   "execution_count": null,
   "metadata": {
    "collapsed": true
   },
   "outputs": [],
   "source": []
  }
 ],
 "metadata": {
  "kernelspec": {
   "display_name": "Python 2",
   "language": "python",
   "name": "python2"
  },
  "language_info": {
   "codemirror_mode": {
    "name": "ipython",
    "version": 2
   },
   "file_extension": ".py",
   "mimetype": "text/x-python",
   "name": "python",
   "nbconvert_exporter": "python",
   "pygments_lexer": "ipython2",
   "version": "2.7.12"
  }
 },
 "nbformat": 4,
 "nbformat_minor": 2
}
