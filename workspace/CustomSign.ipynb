{
 "cells": [
  {
   "cell_type": "code",
   "execution_count": 1,
   "metadata": {
    "collapsed": true
   },
   "outputs": [],
   "source": [
    "import tensorflow as tf\n",
    "from tensorflow.python.framework import ops"
   ]
  },
  {
   "cell_type": "code",
   "execution_count": 2,
   "metadata": {},
   "outputs": [
    {
     "name": "stdout",
     "output_type": "stream",
     "text": [
      "7.5\n",
      "[ 3.  7.]\n"
     ]
    }
   ],
   "source": [
    "a = tf.placeholder(tf.float32)\n",
    "b = tf.placeholder(tf.float32)\n",
    "adder_node = a + b  # + provides a shortcut for tf.add(a, b)\n",
    "sess = tf.Session()\n",
    "writer = tf.summary.FileWriter('/data/tensorflow/log', sess.graph)\n",
    "print(sess.run(adder_node, {a: 3, b:4.5}))\n",
    "print(sess.run(adder_node, {a: [1,3], b: [2, 4]}))\n",
    "writer.close()"
   ]
  },
  {
   "cell_type": "code",
   "execution_count": 3,
   "metadata": {
    "collapsed": true
   },
   "outputs": [],
   "source": [
    "c = tf.greater([1.0,2.0,0.0,3.0,0.0, -.5], 0.0)"
   ]
  },
  {
   "cell_type": "code",
   "execution_count": 4,
   "metadata": {},
   "outputs": [
    {
     "data": {
      "text/plain": [
       "array([ True,  True, False,  True, False, False], dtype=bool)"
      ]
     },
     "execution_count": 4,
     "metadata": {},
     "output_type": "execute_result"
    }
   ],
   "source": [
    "sess.run(c)"
   ]
  },
  {
   "cell_type": "code",
   "execution_count": 5,
   "metadata": {},
   "outputs": [
    {
     "data": {
      "text/plain": [
       "[None]"
      ]
     },
     "execution_count": 5,
     "metadata": {},
     "output_type": "execute_result"
    }
   ],
   "source": [
    "x = tf.Variable(.5)\n",
    "y = tf.cast(tf.greater(x, 0), tf.float32)\n",
    "tf.gradients([y], [x])"
   ]
  },
  {
   "cell_type": "code",
   "execution_count": 6,
   "metadata": {},
   "outputs": [
    {
     "data": {
      "text/plain": [
       "array([ 1.,  1., -1.,  1., -1., -1.], dtype=float32)"
      ]
     },
     "execution_count": 6,
     "metadata": {},
     "output_type": "execute_result"
    }
   ],
   "source": [
    "sess.run(tf.multiply(tf.subtract(tf.cast(c, tf.float32), .5), 2))"
   ]
  },
  {
   "cell_type": "code",
   "execution_count": 7,
   "metadata": {
    "collapsed": true
   },
   "outputs": [],
   "source": [
    "@ops.RegisterGradient(\"DubIdent\")\n",
    "def dubIdent(op, grad):\n",
    "    return [tf.ones(tf.shape(op.inputs[0])), tf.ones(tf.shape(op.inputs[1]))]\n",
    "\n",
    "@ops.RegisterGradient(\"Bin_ST\")\n",
    "def bin_ST(op, grad):\n",
    "    in_vals = op.inputs[0]\n",
    "    grad_func = tf.cast(tf.less_equal(tf.abs(in_vals), 1), tf.float32)\n",
    "    grad_out = tf.multiply(grad_func, grad)\n",
    "    return [grad_out]\n",
    "\n",
    "### binary sign function with straight through estimator gradient and associated gradient overrides ###\n",
    "def binarySign(x):\n",
    "    g = tf.get_default_graph()\n",
    "    with ops.name_scope(\"binarySign\") as name:       \n",
    "        with g.gradient_override_map({\"Sign\": \"Bin_ST\"}):\n",
    "            return tf.sign(x)"
   ]
  },
  {
   "cell_type": "code",
   "execution_count": 13,
   "metadata": {},
   "outputs": [],
   "source": [
    "x = tf.constant([-1,2,-.3, .001, -.2])\n",
    "y = binarySign(x)\n",
    "out = tf.gradients([y], [x])"
   ]
  },
  {
   "cell_type": "code",
   "execution_count": 14,
   "metadata": {},
   "outputs": [
    {
     "data": {
      "text/plain": [
       "[array([ 1.,  0.,  1.,  1.,  1.], dtype=float32)]"
      ]
     },
     "execution_count": 14,
     "metadata": {},
     "output_type": "execute_result"
    }
   ],
   "source": [
    "sess.run(out)"
   ]
  },
  {
   "cell_type": "code",
   "execution_count": 10,
   "metadata": {
    "scrolled": true
   },
   "outputs": [
    {
     "data": {
      "text/plain": [
       "[<tf.Operation 'Placeholder' type=Placeholder>,\n",
       " <tf.Operation 'Placeholder_1' type=Placeholder>,\n",
       " <tf.Operation 'add' type=Add>,\n",
       " <tf.Operation 'Greater/x' type=Const>,\n",
       " <tf.Operation 'Greater/y' type=Const>,\n",
       " <tf.Operation 'Greater' type=Greater>,\n",
       " <tf.Operation 'Variable/initial_value' type=Const>,\n",
       " <tf.Operation 'Variable' type=VariableV2>,\n",
       " <tf.Operation 'Variable/Assign' type=Assign>,\n",
       " <tf.Operation 'Variable/read' type=Identity>,\n",
       " <tf.Operation 'Greater_1/y' type=Const>,\n",
       " <tf.Operation 'Greater_1' type=Greater>,\n",
       " <tf.Operation 'Cast' type=Cast>,\n",
       " <tf.Operation 'gradients/Shape' type=Const>,\n",
       " <tf.Operation 'gradients/Const' type=Const>,\n",
       " <tf.Operation 'gradients/Fill' type=Fill>,\n",
       " <tf.Operation 'Cast_1' type=Cast>,\n",
       " <tf.Operation 'Sub/y' type=Const>,\n",
       " <tf.Operation 'Sub' type=Sub>,\n",
       " <tf.Operation 'Mul/y' type=Const>,\n",
       " <tf.Operation 'Mul' type=Mul>,\n",
       " <tf.Operation 'Const' type=Const>,\n",
       " <tf.Operation 'binarySign/Sign' type=Sign>,\n",
       " <tf.Operation 'gradients_1/Shape' type=Const>,\n",
       " <tf.Operation 'gradients_1/Const' type=Const>,\n",
       " <tf.Operation 'gradients_1/Fill' type=Fill>,\n",
       " <tf.Operation 'gradients_1/binarySign/Sign_grad/Abs' type=Abs>,\n",
       " <tf.Operation 'gradients_1/binarySign/Sign_grad/LessEqual/y' type=Const>,\n",
       " <tf.Operation 'gradients_1/binarySign/Sign_grad/LessEqual' type=LessEqual>,\n",
       " <tf.Operation 'gradients_1/binarySign/Sign_grad/Cast' type=Cast>,\n",
       " <tf.Operation 'gradients_1/binarySign/Sign_grad/Mul' type=Mul>]"
      ]
     },
     "execution_count": 10,
     "metadata": {},
     "output_type": "execute_result"
    }
   ],
   "source": [
    "g = tf.get_default_graph()\n",
    "dir(g)\n",
    "g.get_operations()"
   ]
  }
 ],
 "metadata": {
  "kernelspec": {
   "display_name": "Python 2",
   "language": "python",
   "name": "python2"
  },
  "language_info": {
   "codemirror_mode": {
    "name": "ipython",
    "version": 2
   },
   "file_extension": ".py",
   "mimetype": "text/x-python",
   "name": "python",
   "nbconvert_exporter": "python",
   "pygments_lexer": "ipython2",
   "version": "2.7.12"
  }
 },
 "nbformat": 4,
 "nbformat_minor": 2
}
